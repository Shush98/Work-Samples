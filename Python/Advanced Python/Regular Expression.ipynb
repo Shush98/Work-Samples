{
 "cells": [
  {
   "cell_type": "code",
   "execution_count": 1,
   "id": "1b3ea957-84c7-4e48-8318-6b24fe5a549b",
   "metadata": {},
   "outputs": [],
   "source": [
    "import re"
   ]
  },
  {
   "cell_type": "code",
   "execution_count": 17,
   "id": "dacd8b20-4970-4e59-81e7-93e5e57c8fee",
   "metadata": {},
   "outputs": [
    {
     "name": "stdout",
     "output_type": "stream",
     "text": [
      "<re.Match object; span=(9, 12), match='was'>\n"
     ]
    }
   ],
   "source": [
    "s = \"Hey! How was your day?\"\n",
    "match = re.search(r'was',s)\n",
    "print(match)"
   ]
  },
  {
   "cell_type": "code",
   "execution_count": 20,
   "id": "e35afd92-326b-411c-a189-a5419ff4ea0b",
   "metadata": {},
   "outputs": [
    {
     "name": "stdout",
     "output_type": "stream",
     "text": [
      "['la', 'la', 'la', 'la', 'la', 'la', 'la', 'la', 'la', 'la', 'la', 'la', 'la', 'la', 'la', 'la']\n"
     ]
    }
   ],
   "source": [
    "s = 'lalalalalalalalaallaalaaalalalalalalal'\n",
    "match = re.findall(r'la',s)\n",
    "print(match)"
   ]
  },
  {
   "cell_type": "code",
   "execution_count": 30,
   "id": "4107d782-02c3-4a7d-97c7-7a9c848c41ea",
   "metadata": {},
   "outputs": [
    {
     "name": "stdout",
     "output_type": "stream",
     "text": [
      "['H', 'e', ' ', ' ', 'N', 'A', 'e', ' ', ' ', 'S', 'h', 'h', ' ', '2', '3', '4', '4', '3']\n"
     ]
    }
   ],
   "source": [
    "p = re.compile(r'[d-h A-Z \\d+]')\n",
    "match = p.findall('Hey! my NAme is Shushant 23443')\n",
    "print(match)"
   ]
  },
  {
   "cell_type": "code",
   "execution_count": null,
   "id": "29b59bd4-266f-4ca9-a833-82740a608a12",
   "metadata": {},
   "outputs": [],
   "source": []
  },
  {
   "cell_type": "code",
   "execution_count": null,
   "id": "4c347f73-482a-47ed-80ee-ef742e545644",
   "metadata": {},
   "outputs": [],
   "source": []
  },
  {
   "cell_type": "code",
   "execution_count": null,
   "id": "c57c0061-a3df-4cd3-9ac7-7485bcbb3bb7",
   "metadata": {},
   "outputs": [],
   "source": []
  },
  {
   "cell_type": "code",
   "execution_count": null,
   "id": "a7650054-556e-4298-8d69-0d28e9ab301f",
   "metadata": {},
   "outputs": [],
   "source": []
  },
  {
   "cell_type": "code",
   "execution_count": null,
   "id": "ae6d5648-f53b-425e-ba96-0815cb5916f0",
   "metadata": {},
   "outputs": [],
   "source": []
  },
  {
   "cell_type": "code",
   "execution_count": null,
   "id": "bc0efb72-e3fb-4b86-aa8a-f2f5f0945a1f",
   "metadata": {},
   "outputs": [],
   "source": []
  },
  {
   "cell_type": "code",
   "execution_count": null,
   "id": "cf9fad57-369e-431d-9b11-3557df944058",
   "metadata": {},
   "outputs": [],
   "source": []
  },
  {
   "cell_type": "code",
   "execution_count": null,
   "id": "5603d833-52c7-4a88-847d-dd8de23b4dfb",
   "metadata": {},
   "outputs": [],
   "source": []
  },
  {
   "cell_type": "code",
   "execution_count": null,
   "id": "7c158184-dfd6-42d3-943e-d814332c1dd9",
   "metadata": {},
   "outputs": [],
   "source": []
  }
 ],
 "metadata": {
  "kernelspec": {
   "display_name": "Python 3 (ipykernel)",
   "language": "python",
   "name": "python3"
  },
  "language_info": {
   "codemirror_mode": {
    "name": "ipython",
    "version": 3
   },
   "file_extension": ".py",
   "mimetype": "text/x-python",
   "name": "python",
   "nbconvert_exporter": "python",
   "pygments_lexer": "ipython3",
   "version": "3.10.9"
  }
 },
 "nbformat": 4,
 "nbformat_minor": 5
}
