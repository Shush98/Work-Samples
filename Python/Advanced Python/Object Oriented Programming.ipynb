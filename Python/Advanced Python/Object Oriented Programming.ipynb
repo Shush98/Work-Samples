{
 "cells": [
  {
   "cell_type": "code",
   "execution_count": 3,
   "id": "223ce93f-67e0-4458-8080-891ec3f1ba65",
   "metadata": {},
   "outputs": [
    {
     "name": "stdout",
     "output_type": "stream",
     "text": [
      "bark\n",
      "meow\n",
      "bark\n"
     ]
    }
   ],
   "source": [
    "class Dog:\n",
    "    sound = 'bark'\n",
    "\n",
    "dog = Dog()\n",
    "print(dog.sound)\n",
    "dog.sound = \"meow\"\n",
    "print(dog.sound)\n",
    "dog1 = Dog()\n",
    "print(dog1.sound)"
   ]
  },
  {
   "cell_type": "code",
   "execution_count": 6,
   "id": "c1ca3c3d-3415-47d7-b09b-bc897c8f2b42",
   "metadata": {},
   "outputs": [
    {
     "name": "stdout",
     "output_type": "stream",
     "text": [
      "Canine Sherdil 5\n",
      "Canines Sherdil 5\n"
     ]
    }
   ],
   "source": [
    "class Dog:\n",
    "    species = \"Canine\"\n",
    "    def __init__(self, Name, Age):\n",
    "        self.name = Name\n",
    "        self.age = Age\n",
    "\n",
    "dog = Dog(\"Sherdil\",\"5\")\n",
    "print(dog.species, dog.name, dog.age)\n",
    "\n",
    "dog.species = \"Canines\"\n",
    "print(dog.species, dog.name, dog.age)"
   ]
  },
  {
   "cell_type": "code",
   "execution_count": 15,
   "id": "abd21be3-dc19-4bb5-8baf-09b33f6e6208",
   "metadata": {},
   "outputs": [],
   "source": [
    "class Dog:\n",
    "    species = \"Canine\"\n",
    "    sound = \"Woof\"\n",
    "    def __init__(self, Name, Age):\n",
    "        self.name = Name\n",
    "        self.age = Age\n",
    "\n",
    "    def greet(self):\n",
    "        print(f\"{sound}!{sound}! \\nMy name is {self.name} and I am {self.age} years old. \\nNice to Meet you\")"
   ]
  },
  {
   "cell_type": "code",
   "execution_count": 16,
   "id": "fce52783-8233-4825-bf22-7ed1b9310847",
   "metadata": {},
   "outputs": [
    {
     "ename": "NameError",
     "evalue": "name 'sound' is not defined",
     "output_type": "error",
     "traceback": [
      "\u001b[1;31m---------------------------------------------------------------------------\u001b[0m",
      "\u001b[1;31mNameError\u001b[0m                                 Traceback (most recent call last)",
      "Cell \u001b[1;32mIn[16], line 2\u001b[0m\n\u001b[0;32m      1\u001b[0m dog \u001b[38;5;241m=\u001b[39m Dog(\u001b[38;5;124m\"\u001b[39m\u001b[38;5;124mSherdil\u001b[39m\u001b[38;5;124m\"\u001b[39m, \u001b[38;5;124m\"\u001b[39m\u001b[38;5;124m5\u001b[39m\u001b[38;5;124m\"\u001b[39m)\n\u001b[1;32m----> 2\u001b[0m \u001b[43mdog\u001b[49m\u001b[38;5;241;43m.\u001b[39;49m\u001b[43mgreet\u001b[49m\u001b[43m(\u001b[49m\u001b[43m)\u001b[49m\n",
      "Cell \u001b[1;32mIn[15], line 9\u001b[0m, in \u001b[0;36mDog.greet\u001b[1;34m(self)\u001b[0m\n\u001b[0;32m      8\u001b[0m \u001b[38;5;28;01mdef\u001b[39;00m \u001b[38;5;21mgreet\u001b[39m(\u001b[38;5;28mself\u001b[39m):\n\u001b[1;32m----> 9\u001b[0m     \u001b[38;5;28mprint\u001b[39m(\u001b[38;5;124mf\u001b[39m\u001b[38;5;124m\"\u001b[39m\u001b[38;5;132;01m{\u001b[39;00m\u001b[43msound\u001b[49m\u001b[38;5;132;01m}\u001b[39;00m\u001b[38;5;124m!\u001b[39m\u001b[38;5;132;01m{\u001b[39;00msound\u001b[38;5;132;01m}\u001b[39;00m\u001b[38;5;124m! \u001b[39m\u001b[38;5;130;01m\\n\u001b[39;00m\u001b[38;5;124mMy name is \u001b[39m\u001b[38;5;132;01m{\u001b[39;00m\u001b[38;5;28mself\u001b[39m\u001b[38;5;241m.\u001b[39mname\u001b[38;5;132;01m}\u001b[39;00m\u001b[38;5;124m and I am \u001b[39m\u001b[38;5;132;01m{\u001b[39;00m\u001b[38;5;28mself\u001b[39m\u001b[38;5;241m.\u001b[39mage\u001b[38;5;132;01m}\u001b[39;00m\u001b[38;5;124m years old. \u001b[39m\u001b[38;5;130;01m\\n\u001b[39;00m\u001b[38;5;124mNice to Meet you\u001b[39m\u001b[38;5;124m\"\u001b[39m)\n",
      "\u001b[1;31mNameError\u001b[0m: name 'sound' is not defined"
     ]
    }
   ],
   "source": [
    "dog = Dog(\"Sherdil\", \"5\")\n",
    "dog.greet()"
   ]
  },
  {
   "cell_type": "code",
   "execution_count": 23,
   "id": "e68acbc2-74b4-4895-b0ca-0df16851714d",
   "metadata": {},
   "outputs": [],
   "source": [
    "class Dog:\n",
    "    species = \"Canine\"\n",
    "    sound = \"Woof\"\n",
    "    def __init__(self, Name, Age):\n",
    "        self.name = Name\n",
    "        self.age = Age\n",
    "\n",
    "    def greet(self):\n",
    "        print(f\"{self.sound}!{self.sound}! \\nMy name is {self.name} and I am {self.age} years old. \\nNice to Meet you\")"
   ]
  },
  {
   "cell_type": "code",
   "execution_count": 24,
   "id": "5085d701-8f2b-4e29-b70c-dc4657695165",
   "metadata": {},
   "outputs": [
    {
     "name": "stdout",
     "output_type": "stream",
     "text": [
      "Woof!Woof! \n",
      "My name is Sherdil and I am 5 years old. \n",
      "Nice to Meet you\n"
     ]
    }
   ],
   "source": [
    "dog = Dog(\"Sherdil\", \"5\")\n",
    "dog.greet()"
   ]
  },
  {
   "cell_type": "code",
   "execution_count": 25,
   "id": "871810cd-0589-4a79-b562-1fa0518bab96",
   "metadata": {},
   "outputs": [
    {
     "name": "stdout",
     "output_type": "stream",
     "text": [
      "<__main__.Dog object at 0x0000019B9424F3D0>\n"
     ]
    }
   ],
   "source": [
    "print(dog) # use __str__(self) for this"
   ]
  },
  {
   "cell_type": "markdown",
   "id": "323100f4-044c-485e-bf8e-8bec260dfa61",
   "metadata": {},
   "source": [
    "### Inheritance"
   ]
  },
  {
   "cell_type": "code",
   "execution_count": 28,
   "id": "ad3091f3-52fe-4de1-bd1a-bf5ff15a3764",
   "metadata": {},
   "outputs": [
    {
     "name": "stdout",
     "output_type": "stream",
     "text": [
      "Big Dog Sherdil Barks!!!!!\n"
     ]
    }
   ],
   "source": [
    "class Animal:\n",
    "    def __init__(self, Name):\n",
    "        self.name = Name\n",
    "\n",
    "    def speaks(self):\n",
    "        pass\n",
    "\n",
    "class Dog(Animal):\n",
    "    def speaks(self):\n",
    "        print(f\"{self.name} Barks!!\")\n",
    "\n",
    "class BigDog(Dog):\n",
    "    def speaks(self):\n",
    "        print(f\"Big Dog {self.name} Barks!!!!!\")\n",
    "\n",
    "dog = BigDog(\"Sherdil\")\n",
    "dog.speaks()"
   ]
  },
  {
   "cell_type": "code",
   "execution_count": null,
   "id": "48d0f2ce-a934-4abc-8beb-fc5639962214",
   "metadata": {},
   "outputs": [],
   "source": []
  },
  {
   "cell_type": "code",
   "execution_count": null,
   "id": "4b7d1599-141a-407f-ba55-dbb01a4ffab5",
   "metadata": {},
   "outputs": [],
   "source": []
  }
 ],
 "metadata": {
  "kernelspec": {
   "display_name": "Python 3 (ipykernel)",
   "language": "python",
   "name": "python3"
  },
  "language_info": {
   "codemirror_mode": {
    "name": "ipython",
    "version": 3
   },
   "file_extension": ".py",
   "mimetype": "text/x-python",
   "name": "python",
   "nbconvert_exporter": "python",
   "pygments_lexer": "ipython3",
   "version": "3.10.9"
  }
 },
 "nbformat": 4,
 "nbformat_minor": 5
}
