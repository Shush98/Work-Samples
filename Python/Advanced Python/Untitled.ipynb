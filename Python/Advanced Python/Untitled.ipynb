{
 "cells": [
  {
   "cell_type": "markdown",
   "id": "d5c15491-29a8-4f70-acd8-7de0647b7834",
   "metadata": {},
   "source": [
    "### List Comprehension"
   ]
  },
  {
   "cell_type": "code",
   "execution_count": 5,
   "id": "d6c0a981-ac4d-454c-8ddf-780f4cf531f5",
   "metadata": {},
   "outputs": [
    {
     "data": {
      "text/plain": [
       "[1, 4, 9, 16]"
      ]
     },
     "execution_count": 5,
     "metadata": {},
     "output_type": "execute_result"
    }
   ],
   "source": [
    "l = [1,2,3,4]\n",
    "sq_l = [num**2 for num in l]\n",
    "sq_l"
   ]
  },
  {
   "cell_type": "markdown",
   "id": "14aa313b-c0f6-477e-8279-ab7b08d92cfc",
   "metadata": {},
   "source": [
    "[result FOR element IN list]"
   ]
  },
  {
   "cell_type": "code",
   "execution_count": 6,
   "id": "39afa3d8-2b63-4dbc-aaec-7d08809d081d",
   "metadata": {},
   "outputs": [
    {
     "data": {
      "text/plain": [
       "[4, 16]"
      ]
     },
     "execution_count": 6,
     "metadata": {},
     "output_type": "execute_result"
    }
   ],
   "source": [
    "l = [2,3,4,5]\n",
    "even_sq_l = [num**2 for num in l if num%2==0]\n",
    "even_sq_l"
   ]
  },
  {
   "cell_type": "markdown",
   "id": "c7014347-5002-4ac0-a1ef-9f7ab98bc3ce",
   "metadata": {},
   "source": [
    "[result FOR element IN list IF condition]"
   ]
  },
  {
   "cell_type": "markdown",
   "id": "e01c957a-772f-4f28-88e1-0e5154b62fe6",
   "metadata": {},
   "source": [
    "##### Nested Loops"
   ]
  },
  {
   "cell_type": "code",
   "execution_count": 14,
   "id": "653de760-7c7c-4c5b-a1ab-ae8f31b068d3",
   "metadata": {},
   "outputs": [
    {
     "data": {
      "text/plain": [
       "[(0, 0),\n",
       " (0, 1),\n",
       " (0, 2),\n",
       " (0, 3),\n",
       " (0, 4),\n",
       " (1, 0),\n",
       " (1, 1),\n",
       " (1, 2),\n",
       " (1, 3),\n",
       " (1, 4),\n",
       " (2, 0),\n",
       " (2, 1),\n",
       " (2, 2),\n",
       " (2, 3),\n",
       " (2, 4)]"
      ]
     },
     "execution_count": 14,
     "metadata": {},
     "output_type": "execute_result"
    }
   ],
   "source": [
    "nest_l = [(x,y) for x in range(3) for y in range(5)]\n",
    "nest_l"
   ]
  },
  {
   "cell_type": "code",
   "execution_count": 15,
   "id": "3ae8c2f5-6ec1-4384-a68c-b701cb61be41",
   "metadata": {},
   "outputs": [
    {
     "data": {
      "text/plain": [
       "[(0, 3), (0, 4), (1, 2), (1, 3), (1, 4), (2, 1), (2, 2), (2, 3), (2, 4)]"
      ]
     },
     "execution_count": 15,
     "metadata": {},
     "output_type": "execute_result"
    }
   ],
   "source": [
    "cond_nest_l = [(x,y) for x in range(3) for y in range(5) if (x+y) >= 3]\n",
    "cond_nest_l"
   ]
  },
  {
   "cell_type": "code",
   "execution_count": 19,
   "id": "1f0daeb0-efaf-45bc-abf1-9886a2be07f8",
   "metadata": {},
   "outputs": [
    {
     "data": {
      "text/plain": [
       "[[0, 1, 2, 3, 4],\n",
       " [0, 1, 2, 3, 4],\n",
       " [0, 1, 2, 3, 4],\n",
       " [0, 1, 2, 3, 4],\n",
       " [0, 1, 2, 3, 4]]"
      ]
     },
     "execution_count": 19,
     "metadata": {},
     "output_type": "execute_result"
    }
   ],
   "source": [
    "list_of_lists = [[num for num in range(5)] for i in range(5)]\n",
    "list_of_lists"
   ]
  },
  {
   "cell_type": "markdown",
   "id": "eb26dacf-9d6d-450c-bdd4-0f26c7952541",
   "metadata": {},
   "source": [
    "##### Filtering nested loops"
   ]
  },
  {
   "cell_type": "code",
   "execution_count": 21,
   "id": "5534d787-594e-438c-a226-4597b9dea248",
   "metadata": {},
   "outputs": [
    {
     "data": {
      "text/plain": [
       "[[2], [4, 6], [8]]"
      ]
     },
     "execution_count": 21,
     "metadata": {},
     "output_type": "execute_result"
    }
   ],
   "source": [
    "list_of_lists = [[1,2,3],[4,5,6],[7,8,9]]\n",
    "even_lols = [[num for num in lists if num%2==0] for lists in list_of_lists]\n",
    "even_lols"
   ]
  },
  {
   "cell_type": "markdown",
   "id": "ff6eed03-9494-441f-8a14-e1406dc15bc1",
   "metadata": {},
   "source": [
    "##### Flattening a list_of_lists"
   ]
  },
  {
   "cell_type": "code",
   "execution_count": 17,
   "id": "62542a20-bce1-40aa-87df-a57d9c53ec04",
   "metadata": {},
   "outputs": [
    {
     "data": {
      "text/plain": [
       "[1, 2, 3, 4, 5, 6, 7, 8, 9]"
      ]
     },
     "execution_count": 17,
     "metadata": {},
     "output_type": "execute_result"
    }
   ],
   "source": [
    "list_of_lists = [[1,2,3],[4,5,6],[7,8,9]]\n",
    "simple_list = [num for lists in list_of_lists for num in lists]\n",
    "simple_list"
   ]
  },
  {
   "cell_type": "markdown",
   "id": "448017b3-29db-401e-a5d3-7626f9bd9b4a",
   "metadata": {},
   "source": [
    "##### String Manipulation using list comprehension"
   ]
  },
  {
   "cell_type": "code",
   "execution_count": 22,
   "id": "6dde9e52-212d-4e28-9843-57537947e5c9",
   "metadata": {},
   "outputs": [
    {
     "data": {
      "text/plain": [
       "[['Apple', 'Banana', 'Cherry'],\n",
       " ['Date', 'Fig', 'Grape'],\n",
       " ['Kiwi', 'Lemon', 'Mango']]"
      ]
     },
     "execution_count": 22,
     "metadata": {},
     "output_type": "execute_result"
    }
   ],
   "source": [
    "lols_of_strings = [[\"apple\", \"banana\", \"cherry\"],\n",
    "     [\"date\", \"fig\", \"grape\"],\n",
    "     [\"kiwi\", \"lemon\", \"mango\"]]\n",
    "cap_lols_of_strings = [[fruit.capitalize() for fruit in lists] for lists in lols_of_strings]\n",
    "cap_lols_of_strings"
   ]
  },
  {
   "cell_type": "markdown",
   "id": "af093583-9a20-48d5-a9b5-f94d256e7977",
   "metadata": {},
   "source": [
    "##### Step Slicing with list comprehension"
   ]
  },
  {
   "cell_type": "code",
   "execution_count": 24,
   "id": "7329dcff-c67b-48ac-9c33-efce077ca13d",
   "metadata": {},
   "outputs": [
    {
     "data": {
      "text/plain": [
       "[1, 16, 49]"
      ]
     },
     "execution_count": 24,
     "metadata": {},
     "output_type": "execute_result"
    }
   ],
   "source": [
    "l = [1,2,3,4,5,6,7,8,9]\n",
    "step_slc_l = [num**2 for num in l[::3]]\n",
    "step_slc_l"
   ]
  },
  {
   "cell_type": "code",
   "execution_count": 28,
   "id": "36e5d00b-d588-4138-82e1-36650aadbb70",
   "metadata": {},
   "outputs": [
    {
     "data": {
      "text/plain": [
       "[[4], [64], [196], [324, 400]]"
      ]
     },
     "execution_count": 28,
     "metadata": {},
     "output_type": "execute_result"
    }
   ],
   "source": [
    "list_of_lists = [[1,2,3],\n",
    "                 [4,5,6],\n",
    "                 [7,8,9],\n",
    "                 [10,11,12],\n",
    "                 [13,14,15],\n",
    "                 [15,16,17],\n",
    "                 [18,19,20]]\n",
    "filter_step_slc_lol = [[num**2 for num in lists if num%2==0] for lists in list_of_lists[::2]]\n",
    "filter_step_slc_lol"
   ]
  },
  {
   "cell_type": "markdown",
   "id": "5bfd6bb4-4fbc-444f-969b-0ee911259aad",
   "metadata": {},
   "source": [
    "### Lambda Function and Lists"
   ]
  },
  {
   "cell_type": "code",
   "execution_count": 29,
   "id": "339d53d3-a314-45cf-8b07-2de4ab97f1fe",
   "metadata": {},
   "outputs": [
    {
     "data": {
      "text/plain": [
       "[0, 1, 4, 9, 16, 25, 36, 49, 64, 81]"
      ]
     },
     "execution_count": 29,
     "metadata": {},
     "output_type": "execute_result"
    }
   ],
   "source": [
    "list_ = [0,1,2,3,4,5,6,7,8,9]\n",
    "lambda_list = list(map(lambda x: x**2, list_))\n",
    "lambda_list"
   ]
  },
  {
   "cell_type": "markdown",
   "id": "402868f9-9a7f-41da-855c-d68b43211b66",
   "metadata": {},
   "source": [
    "map(FUNCTION, LIST/SERIES)"
   ]
  },
  {
   "cell_type": "code",
   "execution_count": 30,
   "id": "6e6c1548-ccfe-421c-b372-920488ef6312",
   "metadata": {},
   "outputs": [
    {
     "data": {
      "image/png": "[encoded data removed]",
      "text/plain": [
       "<Figure size 640x480 with 1 Axes>"
      ]
     },
     "metadata": {},
     "output_type": "display_data"
    }
   ],
   "source": [
    "import numpy as np\n",
    "import matplotlib.pyplot as plt\n",
    "import time\n",
    "\n",
    "\n",
    "# Compare runtime of both methods\n",
    "sizes = [i * 10000 for i in range(100)]\n",
    "\n",
    "filter_runtimes = []\n",
    "list_comp_runtimes = []\n",
    "\n",
    "for lis_size in sizes:\n",
    "\n",
    "    lst = list(range(lis_size))\n",
    "\n",
    "    # Get time stamps\n",
    "    time_A = time.time()\n",
    "    list(filter(lambda x: x % 2, lst))\n",
    "    time_B = time.time()\n",
    "    [x for x in lst if x % 2]\n",
    "    time_C = time.time()\n",
    "\n",
    "    # Calculate runtimes\n",
    "    filter_runtimes.append((lis_size, time_B - time_A))\n",
    "    list_comp_runtimes.append((lis_size, time_C - time_B))\n",
    "\n",
    "\n",
    "# list comprehension vs. lambda + filter using Matplotlib\n",
    "\n",
    "filt = np.array(filter_runtimes)\n",
    "lis = np.array(list_comp_runtimes)\n",
    "\n",
    "plt.plot(filt[:, 0], filt[:, 1], label='filter')\n",
    "plt.plot(lis[:, 0], lis[:, 1], label='list comprehension')\n",
    "\n",
    "plt.xlabel('list size')\n",
    "plt.ylabel('runtime in seconds)')\n",
    "\n",
    "plt.legend()\n",
    "plt.show()"
   ]
  },
  {
   "cell_type": "markdown",
   "id": "0870257f-b6cb-4829-88f2-852afbec169d",
   "metadata": {},
   "source": [
    "### Working with 2 lists"
   ]
  },
  {
   "cell_type": "code",
   "execution_count": 31,
   "id": "6bd2939e-aebf-4164-9ebe-8af6d572493d",
   "metadata": {},
   "outputs": [
    {
     "data": {
      "text/plain": [
       "[13, 12]"
      ]
     },
     "execution_count": 31,
     "metadata": {},
     "output_type": "execute_result"
    }
   ],
   "source": [
    "list1, list2 = [4,2,1,7], [9,6,2,5]\n",
    "sum_gt10 = [(x+y) for x,y in zip(list1,list2) if (x+y) >= 10]\n",
    "sum_gt10"
   ]
  },
  {
   "cell_type": "code",
   "execution_count": null,
   "id": "17ed39a7-9dbf-4337-8d4d-8ee2cbb10e53",
   "metadata": {},
   "outputs": [],
   "source": []
  },
  {
   "cell_type": "code",
   "execution_count": null,
   "id": "c104b2a2-5727-4c99-a2ce-1322faa54127",
   "metadata": {},
   "outputs": [],
   "source": []
  },
  {
   "cell_type": "code",
   "execution_count": null,
   "id": "b4e68a67-f83e-4ed4-a557-f4c156933f2e",
   "metadata": {},
   "outputs": [],
   "source": []
  },
  {
   "cell_type": "code",
   "execution_count": null,
   "id": "abd36121-59d8-4923-81b2-625514bbfcc1",
   "metadata": {},
   "outputs": [],
   "source": []
  },
  {
   "cell_type": "code",
   "execution_count": null,
   "id": "05495239-091c-4ab1-816a-ff902dcce969",
   "metadata": {},
   "outputs": [],
   "source": []
  },
  {
   "cell_type": "code",
   "execution_count": null,
   "id": "edacc0e2-01bd-41a5-9fae-7b8fc9289723",
   "metadata": {},
   "outputs": [],
   "source": []
  }
 ],
 "metadata": {
  "kernelspec": {
   "display_name": "Python 3 (ipykernel)",
   "language": "python",
   "name": "python3"
  },
  "language_info": {
   "codemirror_mode": {
    "name": "ipython",
    "version": 3
   },
   "file_extension": ".py",
   "mimetype": "text/x-python",
   "name": "python",
   "nbconvert_exporter": "python",
   "pygments_lexer": "ipython3",
   "version": "3.10.9"
  }
 },
 "nbformat": 4,
 "nbformat_minor": 5
}
