{
 "cells": [
  {
   "cell_type": "markdown",
   "id": "a19242de-e053-40c8-93c9-e2e599c3cc45",
   "metadata": {},
   "source": [
    "### Plot ValueCounts"
   ]
  },
  {
   "cell_type": "code",
   "execution_count": null,
   "id": "883115f0-ca2a-4135-8386-ffe7f618a3f8",
   "metadata": {},
   "outputs": [],
   "source": [
    "counts = df['Survived'].value_counts()\n",
    "counts.plot(kind='bar')\n",
    "plt.xlabel('Lable')\n",
    "plt.ylabel('Count')\n",
    "plt.title('Survived Count')\n",
    "plt.show()"
   ]
  },
  {
   "cell_type": "code",
   "execution_count": null,
   "id": "0db6ccc4-d9fd-40a4-9ba0-d5281eff0391",
   "metadata": {},
   "outputs": [],
   "source": []
  },
  {
   "cell_type": "code",
   "execution_count": null,
   "id": "14aedb29-e913-4cf4-9cd5-93794bea0c30",
   "metadata": {},
   "outputs": [],
   "source": []
  },
  {
   "cell_type": "code",
   "execution_count": null,
   "id": "c53e4e30-2693-4ebb-9ba8-0184c5b36210",
   "metadata": {},
   "outputs": [],
   "source": []
  },
  {
   "cell_type": "code",
   "execution_count": null,
   "id": "6ae8147e-ab73-479b-a725-35776ec6d3a5",
   "metadata": {},
   "outputs": [],
   "source": []
  },
  {
   "cell_type": "code",
   "execution_count": null,
   "id": "a6b33859-463e-499e-9ad4-3b03d79e332f",
   "metadata": {},
   "outputs": [],
   "source": []
  }
 ],
 "metadata": {
  "kernelspec": {
   "display_name": "Python 3 (ipykernel)",
   "language": "python",
   "name": "python3"
  },
  "language_info": {
   "codemirror_mode": {
    "name": "ipython",
    "version": 3
   },
   "file_extension": ".py",
   "mimetype": "text/x-python",
   "name": "python",
   "nbconvert_exporter": "python",
   "pygments_lexer": "ipython3",
   "version": "3.10.9"
  }
 },
 "nbformat": 4,
 "nbformat_minor": 5
}
