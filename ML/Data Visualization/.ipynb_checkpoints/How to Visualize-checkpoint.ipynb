{
 "cells": [
  {
   "cell_type": "markdown",
   "id": "a19242de-e053-40c8-93c9-e2e599c3cc45",
   "metadata": {},
   "source": [
    "### Plot ValueCounts"
   ]
  },
  {
   "cell_type": "code",
   "execution_count": null,
   "id": "883115f0-ca2a-4135-8386-ffe7f618a3f8",
   "metadata": {},
   "outputs": [],
   "source": [
    "counts = df['Survived'].value_counts()\n",
    "counts.plot(kind='bar')\n",
    "plt.xlabel('Lable')\n",
    "plt.ylabel('Count')\n",
    "plt.title('Survived Count')\n",
    "plt.show()"
   ]
  },
  {
   "cell_type": "markdown",
   "id": "e2f4956a-34d1-4bb2-a1e7-68abdb050085",
   "metadata": {},
   "source": [
    "### Plot Distributions"
   ]
  },
  {
   "cell_type": "code",
   "execution_count": null,
   "id": "14aedb29-e913-4cf4-9cd5-93794bea0c30",
   "metadata": {},
   "outputs": [],
   "source": [
    "plt.hist(df['Age'], bins=10, edgecolor='black') # 'bins' controls the number of bars\n",
    "plt.title('Age Distribution')\n",
    "plt.xlabel('Age')\n",
    "plt.ylabel('Frequency')\n",
    "plt.grid(axis='y', alpha=0.75) # Add a grid for better readability\n",
    "plt.show()"
   ]
  },
  {
   "cell_type": "code",
   "execution_count": null,
   "id": "c53e4e30-2693-4ebb-9ba8-0184c5b36210",
   "metadata": {},
   "outputs": [],
   "source": [
    "sns.histplot(df['Fare'], kde=True)\n",
    "plt.title('Fare Distribution')\n",
    "plt.xlabel('Fare')\n",
    "plt.ylabel('Frequency')\n",
    "plt.grid(axis='y', alpha=0.75) # Add a grid for better readability\n",
    "plt.show()"
   ]
  },
  {
   "cell_type": "markdown",
   "id": "fa27518f-2286-4e73-8eb8-04be96201689",
   "metadata": {},
   "source": [
    "continuous distribution"
   ]
  },
  {
   "cell_type": "code",
   "execution_count": null,
   "id": "a6b33859-463e-499e-9ad4-3b03d79e332f",
   "metadata": {},
   "outputs": [],
   "source": [
    "plt.boxplot(df['Fare'])\n",
    "plt.xlabel(\"Fare\")\n",
    "plt.ylabel(\"Value\")\n",
    "plt.title(\"Box Plot of Fare Data\")\n",
    "plt.show()"
   ]
  },
  {
   "cell_type": "markdown",
   "id": "6103df32-4bd2-462a-8fc3-1246e60c4f8e",
   "metadata": {},
   "source": [
    "### Multivariate Analysis"
   ]
  },
  {
   "cell_type": "markdown",
   "id": "fb6a6cec-187d-432a-bf04-8eceb5689310",
   "metadata": {},
   "source": [
    "Contingency Table"
   ]
  },
  {
   "cell_type": "code",
   "execution_count": null,
   "id": "4b7f0ecf-ef07-40f2-ac0f-3b1d562531da",
   "metadata": {},
   "outputs": [],
   "source": [
    "crosstable = pd.crosstab(df['Pclass'], df['Survived'])"
   ]
  },
  {
   "cell_type": "code",
   "execution_count": null,
   "id": "f2dc5745-9012-440c-8129-fd814a0e849a",
   "metadata": {},
   "outputs": [],
   "source": [
    "crosstable.plot(kind='bar') #can be (stacked = True) as well, for stacked bar chart\n",
    "plt.title('Relation of Pclass to Passengers Survived')\n",
    "plt.xlabel('P Class')\n",
    "plt.ylabel('Count')\n",
    "plt.xticks(rotation=0)\n",
    "plt.legend(title='Survived')\n",
    "plt.show()"
   ]
  },
  {
   "cell_type": "code",
   "execution_count": null,
   "id": "9ae74628-47fd-4c06-990b-6ccb2b229aa9",
   "metadata": {},
   "outputs": [],
   "source": []
  },
  {
   "cell_type": "code",
   "execution_count": null,
   "id": "3f46569d-0935-4c8d-b0f5-438faa45ddbd",
   "metadata": {},
   "outputs": [],
   "source": [
    "target_0_ages = df[df['Survived'] == 0]['FareImputed']\n",
    "target_1_ages = df[df['Survived'] == 1]['FareImputed']\n",
    "\n",
    "plt.hist([target_0_ages, target_1_ages],\n",
    "         bins=5,\n",
    "         label=['Survived 0', 'Survived 1'],\n",
    "         histtype='bar',\n",
    "         rwidth=0.8)\n",
    "\n",
    "plt.title(\"Fare distribution by Target\")\n",
    "plt.xlabel(\"Fare\")\n",
    "plt.ylabel(\"Count\")\n",
    "plt.legend()\n",
    "plt.show()"
   ]
  }
 ],
 "metadata": {
  "kernelspec": {
   "display_name": "Python 3 (ipykernel)",
   "language": "python",
   "name": "python3"
  },
  "language_info": {
   "codemirror_mode": {
    "name": "ipython",
    "version": 3
   },
   "file_extension": ".py",
   "mimetype": "text/x-python",
   "name": "python",
   "nbconvert_exporter": "python",
   "pygments_lexer": "ipython3",
   "version": "3.10.9"
  }
 },
 "nbformat": 4,
 "nbformat_minor": 5
}
