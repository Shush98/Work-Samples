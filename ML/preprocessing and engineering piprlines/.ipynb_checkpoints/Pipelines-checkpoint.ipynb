{
 "cells": [
  {
   "cell_type": "code",
   "execution_count": null,
   "id": "bfc56dae-d0dd-4252-a7a2-58e4d2d6c055",
   "metadata": {},
   "outputs": [],
   "source": [
    "from sklearn.pipeline import Pipeline\n",
    "from sklearn.compose import ColumnTransformer\n",
    "from sklearn.preprocessing import OneHotEncoder, StandardScaler"
   ]
  },
  {
   "cell_type": "code",
   "execution_count": null,
   "id": "26795151-37c2-4ea1-89f1-c0f9653980a0",
   "metadata": {},
   "outputs": [],
   "source": []
  },
  {
   "cell_type": "code",
   "execution_count": null,
   "id": "95fb3c46-aa32-4a83-bae7-3f21ecd44357",
   "metadata": {},
   "outputs": [],
   "source": [
    "categorical_cols = ['Pclass','Sex','SibSp','Parch','Embarked','FamilySize','Title','Age_bin','hasCabin']\n",
    "numerical_cols = ['Age','FareImputed']"
   ]
  },
  {
   "cell_type": "code",
   "execution_count": null,
   "id": "1b1f539b-f019-467b-8b57-0cfd208e5017",
   "metadata": {},
   "outputs": [],
   "source": [
    "categorical_transformer = OneHotEncoder(drop='first')\n",
    "numerical_transformer = StandardScaler()"
   ]
  },
  {
   "cell_type": "code",
   "execution_count": null,
   "id": "6236f514-8673-495b-a937-2de77e19fe5a",
   "metadata": {},
   "outputs": [],
   "source": [
    "preprocessor = ColumnTransformer(\n",
    "    transformers=[\n",
    "        ('cat', categorical_transformer, categorical_cols),\n",
    "        ('num', numerical_transformer, numerical_cols)\n",
    "    ])"
   ]
  },
  {
   "cell_type": "code",
   "execution_count": null,
   "id": "685a4357-d59c-4b2d-813a-dcdacf95c43a",
   "metadata": {},
   "outputs": [],
   "source": [
    "preprocessing_pipeline = Pipeline(steps=[\n",
    "    ('preprocessing', preprocessor)\n",
    "])"
   ]
  },
  {
   "cell_type": "code",
   "execution_count": null,
   "id": "f39c3f09-9230-4355-b2e2-6f170aca6009",
   "metadata": {},
   "outputs": [],
   "source": [
    "preprocessing_pipeline = Pipeline(steps=[\n",
    "    ('preprocessing', preprocessor)\n",
    "])"
   ]
  },
  {
   "cell_type": "code",
   "execution_count": null,
   "id": "390cfcc9-7c12-4621-8434-cb2dcb3cc2ec",
   "metadata": {},
   "outputs": [],
   "source": [
    "# If needed, convert back to DataFrame (optional)\n",
    "import numpy as np\n",
    "\n",
    "# Get feature names (only available for OneHotEncoder with handle_unknown='ignore' in newer sklearn)\n",
    "cat_features = preprocessing_pipeline.named_steps['preprocessing'].named_transformers_['cat'].get_feature_names_out(categorical_cols)\n",
    "all_features = np.concatenate([cat_features, numerical_cols])\n",
    "\n",
    "X_transformed_df = pd.DataFrame(X_transformed.toarray() if hasattr(X_transformed, 'toarray') else X_transformed,\n",
    "                                columns=all_features)\n",
    "\n"
   ]
  },
  {
   "cell_type": "code",
   "execution_count": null,
   "id": "88d70203-3cae-4fbc-9042-a68e38a069a2",
   "metadata": {},
   "outputs": [],
   "source": []
  }
 ],
 "metadata": {
  "kernelspec": {
   "display_name": "Python 3 (ipykernel)",
   "language": "python",
   "name": "python3"
  },
  "language_info": {
   "codemirror_mode": {
    "name": "ipython",
    "version": 3
   },
   "file_extension": ".py",
   "mimetype": "text/x-python",
   "name": "python",
   "nbconvert_exporter": "python",
   "pygments_lexer": "ipython3",
   "version": "3.10.9"
  }
 },
 "nbformat": 4,
 "nbformat_minor": 5
}
